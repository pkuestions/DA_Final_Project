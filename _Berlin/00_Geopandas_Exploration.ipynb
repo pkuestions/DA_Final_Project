{
 "cells": [
  {
   "cell_type": "code",
   "execution_count": 2,
   "id": "5f7e12ee",
   "metadata": {},
   "outputs": [],
   "source": [
    "import geopandas as gpd\n",
    "import matplotlib.pyplot as plt\n",
    "import geoplot\n",
    "import geoplot.crs as gcrs\n",
    "from shapely.geometry import Point, Polygon"
   ]
  },
  {
   "cell_type": "code",
   "execution_count": 3,
   "id": "7dbfc8e4",
   "metadata": {},
   "outputs": [],
   "source": [
    "data = gpd.read_file(\"bezirksgrenzen.geojson\")"
   ]
  },
  {
   "cell_type": "code",
   "execution_count": 9,
   "id": "df9a2923",
   "metadata": {},
   "outputs": [
    {
     "data": {
      "text/html": [
       "<div>\n",
       "<style scoped>\n",
       "    .dataframe tbody tr th:only-of-type {\n",
       "        vertical-align: middle;\n",
       "    }\n",
       "\n",
       "    .dataframe tbody tr th {\n",
       "        vertical-align: top;\n",
       "    }\n",
       "\n",
       "    .dataframe thead th {\n",
       "        text-align: right;\n",
       "    }\n",
       "</style>\n",
       "<table border=\"1\" class=\"dataframe\">\n",
       "  <thead>\n",
       "    <tr style=\"text-align: right;\">\n",
       "      <th></th>\n",
       "      <th>gml_id</th>\n",
       "      <th>Gemeinde_name</th>\n",
       "      <th>Gemeinde_schluessel</th>\n",
       "      <th>Land_name</th>\n",
       "      <th>Land_schluessel</th>\n",
       "      <th>Schluessel_gesamt</th>\n",
       "      <th>geometry</th>\n",
       "    </tr>\n",
       "  </thead>\n",
       "  <tbody>\n",
       "    <tr>\n",
       "      <th>0</th>\n",
       "      <td>s_wfs_alkis_bezirk.F176__1</td>\n",
       "      <td>Reinickendorf</td>\n",
       "      <td>012</td>\n",
       "      <td>Berlin</td>\n",
       "      <td>11</td>\n",
       "      <td>11000012</td>\n",
       "      <td>MULTIPOLYGON (((13.32074 52.62660, 13.32045 52...</td>\n",
       "    </tr>\n",
       "    <tr>\n",
       "      <th>1</th>\n",
       "      <td>s_wfs_alkis_bezirk.F176__2</td>\n",
       "      <td>Charlottenburg-Wilmersdorf</td>\n",
       "      <td>004</td>\n",
       "      <td>Berlin</td>\n",
       "      <td>11</td>\n",
       "      <td>11000004</td>\n",
       "      <td>MULTIPOLYGON (((13.32111 52.52446, 13.32103 52...</td>\n",
       "    </tr>\n",
       "    <tr>\n",
       "      <th>2</th>\n",
       "      <td>s_wfs_alkis_bezirk.F176__3</td>\n",
       "      <td>Treptow-Köpenick</td>\n",
       "      <td>009</td>\n",
       "      <td>Berlin</td>\n",
       "      <td>11</td>\n",
       "      <td>11000009</td>\n",
       "      <td>MULTIPOLYGON (((13.57925 52.39083, 13.57958 52...</td>\n",
       "    </tr>\n",
       "    <tr>\n",
       "      <th>3</th>\n",
       "      <td>s_wfs_alkis_bezirk.F176__4</td>\n",
       "      <td>Pankow</td>\n",
       "      <td>003</td>\n",
       "      <td>Berlin</td>\n",
       "      <td>11</td>\n",
       "      <td>11000003</td>\n",
       "      <td>MULTIPOLYGON (((13.50481 52.61960, 13.50467 52...</td>\n",
       "    </tr>\n",
       "    <tr>\n",
       "      <th>4</th>\n",
       "      <td>s_wfs_alkis_bezirk.F176__5</td>\n",
       "      <td>Neukölln</td>\n",
       "      <td>008</td>\n",
       "      <td>Berlin</td>\n",
       "      <td>11</td>\n",
       "      <td>11000008</td>\n",
       "      <td>MULTIPOLYGON (((13.45832 52.48569, 13.45823 52...</td>\n",
       "    </tr>\n",
       "    <tr>\n",
       "      <th>5</th>\n",
       "      <td>s_wfs_alkis_bezirk.F176__6</td>\n",
       "      <td>Lichtenberg</td>\n",
       "      <td>011</td>\n",
       "      <td>Berlin</td>\n",
       "      <td>11</td>\n",
       "      <td>11000011</td>\n",
       "      <td>MULTIPOLYGON (((13.52316 52.47424, 13.52367 52...</td>\n",
       "    </tr>\n",
       "    <tr>\n",
       "      <th>6</th>\n",
       "      <td>s_wfs_alkis_bezirk.F176__7</td>\n",
       "      <td>Marzahn-Hellersdorf</td>\n",
       "      <td>010</td>\n",
       "      <td>Berlin</td>\n",
       "      <td>11</td>\n",
       "      <td>11000010</td>\n",
       "      <td>MULTIPOLYGON (((13.61317 52.47213, 13.61329 52...</td>\n",
       "    </tr>\n",
       "    <tr>\n",
       "      <th>7</th>\n",
       "      <td>s_wfs_alkis_bezirk.F176__8</td>\n",
       "      <td>Spandau</td>\n",
       "      <td>005</td>\n",
       "      <td>Berlin</td>\n",
       "      <td>11</td>\n",
       "      <td>11000005</td>\n",
       "      <td>MULTIPOLYGON (((13.23119 52.56124, 13.23092 52...</td>\n",
       "    </tr>\n",
       "    <tr>\n",
       "      <th>8</th>\n",
       "      <td>s_wfs_alkis_bezirk.F176__9</td>\n",
       "      <td>Steglitz-Zehlendorf</td>\n",
       "      <td>006</td>\n",
       "      <td>Berlin</td>\n",
       "      <td>11</td>\n",
       "      <td>11000006</td>\n",
       "      <td>MULTIPOLYGON (((13.31952 52.46699, 13.31910 52...</td>\n",
       "    </tr>\n",
       "    <tr>\n",
       "      <th>9</th>\n",
       "      <td>s_wfs_alkis_bezirk.F176__10</td>\n",
       "      <td>Mitte</td>\n",
       "      <td>001</td>\n",
       "      <td>Berlin</td>\n",
       "      <td>11</td>\n",
       "      <td>11000001</td>\n",
       "      <td>MULTIPOLYGON (((13.37721 52.56091, 13.37715 52...</td>\n",
       "    </tr>\n",
       "    <tr>\n",
       "      <th>10</th>\n",
       "      <td>s_wfs_alkis_bezirk.F176__11</td>\n",
       "      <td>Friedrichshain-Kreuzberg</td>\n",
       "      <td>002</td>\n",
       "      <td>Berlin</td>\n",
       "      <td>11</td>\n",
       "      <td>11000002</td>\n",
       "      <td>MULTIPOLYGON (((13.45529 52.52127, 13.45542 52...</td>\n",
       "    </tr>\n",
       "    <tr>\n",
       "      <th>11</th>\n",
       "      <td>s_wfs_alkis_bezirk.F176__12</td>\n",
       "      <td>Tempelhof-Schöneberg</td>\n",
       "      <td>007</td>\n",
       "      <td>Berlin</td>\n",
       "      <td>11</td>\n",
       "      <td>11000007</td>\n",
       "      <td>MULTIPOLYGON (((13.38759 52.38677, 13.38761 52...</td>\n",
       "    </tr>\n",
       "  </tbody>\n",
       "</table>\n",
       "</div>"
      ],
      "text/plain": [
       "                         gml_id               Gemeinde_name  \\\n",
       "0    s_wfs_alkis_bezirk.F176__1               Reinickendorf   \n",
       "1    s_wfs_alkis_bezirk.F176__2  Charlottenburg-Wilmersdorf   \n",
       "2    s_wfs_alkis_bezirk.F176__3            Treptow-Köpenick   \n",
       "3    s_wfs_alkis_bezirk.F176__4                      Pankow   \n",
       "4    s_wfs_alkis_bezirk.F176__5                    Neukölln   \n",
       "5    s_wfs_alkis_bezirk.F176__6                 Lichtenberg   \n",
       "6    s_wfs_alkis_bezirk.F176__7         Marzahn-Hellersdorf   \n",
       "7    s_wfs_alkis_bezirk.F176__8                     Spandau   \n",
       "8    s_wfs_alkis_bezirk.F176__9         Steglitz-Zehlendorf   \n",
       "9   s_wfs_alkis_bezirk.F176__10                       Mitte   \n",
       "10  s_wfs_alkis_bezirk.F176__11    Friedrichshain-Kreuzberg   \n",
       "11  s_wfs_alkis_bezirk.F176__12        Tempelhof-Schöneberg   \n",
       "\n",
       "   Gemeinde_schluessel Land_name Land_schluessel Schluessel_gesamt  \\\n",
       "0                  012    Berlin              11          11000012   \n",
       "1                  004    Berlin              11          11000004   \n",
       "2                  009    Berlin              11          11000009   \n",
       "3                  003    Berlin              11          11000003   \n",
       "4                  008    Berlin              11          11000008   \n",
       "5                  011    Berlin              11          11000011   \n",
       "6                  010    Berlin              11          11000010   \n",
       "7                  005    Berlin              11          11000005   \n",
       "8                  006    Berlin              11          11000006   \n",
       "9                  001    Berlin              11          11000001   \n",
       "10                 002    Berlin              11          11000002   \n",
       "11                 007    Berlin              11          11000007   \n",
       "\n",
       "                                             geometry  \n",
       "0   MULTIPOLYGON (((13.32074 52.62660, 13.32045 52...  \n",
       "1   MULTIPOLYGON (((13.32111 52.52446, 13.32103 52...  \n",
       "2   MULTIPOLYGON (((13.57925 52.39083, 13.57958 52...  \n",
       "3   MULTIPOLYGON (((13.50481 52.61960, 13.50467 52...  \n",
       "4   MULTIPOLYGON (((13.45832 52.48569, 13.45823 52...  \n",
       "5   MULTIPOLYGON (((13.52316 52.47424, 13.52367 52...  \n",
       "6   MULTIPOLYGON (((13.61317 52.47213, 13.61329 52...  \n",
       "7   MULTIPOLYGON (((13.23119 52.56124, 13.23092 52...  \n",
       "8   MULTIPOLYGON (((13.31952 52.46699, 13.31910 52...  \n",
       "9   MULTIPOLYGON (((13.37721 52.56091, 13.37715 52...  \n",
       "10  MULTIPOLYGON (((13.45529 52.52127, 13.45542 52...  \n",
       "11  MULTIPOLYGON (((13.38759 52.38677, 13.38761 52...  "
      ]
     },
     "execution_count": 9,
     "metadata": {},
     "output_type": "execute_result"
    }
   ],
   "source": [
    "data"
   ]
  },
  {
   "cell_type": "code",
   "execution_count": 10,
   "id": "8ee42b97",
   "metadata": {},
   "outputs": [
    {
     "name": "stdout",
     "output_type": "stream",
     "text": [
      "<class 'geopandas.geodataframe.GeoDataFrame'>\n",
      "RangeIndex: 12 entries, 0 to 11\n",
      "Data columns (total 7 columns):\n",
      " #   Column               Non-Null Count  Dtype   \n",
      "---  ------               --------------  -----   \n",
      " 0   gml_id               12 non-null     object  \n",
      " 1   Gemeinde_name        12 non-null     object  \n",
      " 2   Gemeinde_schluessel  12 non-null     object  \n",
      " 3   Land_name            12 non-null     object  \n",
      " 4   Land_schluessel      12 non-null     object  \n",
      " 5   Schluessel_gesamt    12 non-null     object  \n",
      " 6   geometry             12 non-null     geometry\n",
      "dtypes: geometry(1), object(6)\n",
      "memory usage: 800.0+ bytes\n"
     ]
    }
   ],
   "source": [
    "data.info()"
   ]
  },
  {
   "cell_type": "code",
   "execution_count": 6,
   "id": "52a75248",
   "metadata": {},
   "outputs": [
    {
     "ename": "TypeError",
     "evalue": "ufunc 'isnan' not supported for the input types, and the inputs could not be safely coerced to any supported types according to the casting rule ''safe''",
     "output_type": "error",
     "traceback": [
      "\u001b[1;31m---------------------------------------------------------------------------\u001b[0m",
      "\u001b[1;31mTypeError\u001b[0m                                 Traceback (most recent call last)",
      "Cell \u001b[1;32mIn [6], line 1\u001b[0m\n\u001b[1;32m----> 1\u001b[0m data\u001b[38;5;241m.\u001b[39mplot(\u001b[38;5;124m'\u001b[39m\u001b[38;5;124mgeometry\u001b[39m\u001b[38;5;124m'\u001b[39m,figsize\u001b[38;5;241m=\u001b[39m(\u001b[38;5;241m15\u001b[39m,\u001b[38;5;241m10\u001b[39m))\n",
      "File \u001b[1;32m~\\Anaconda3\\envs\\DA\\lib\\site-packages\\geopandas\\plotting.py:963\u001b[0m, in \u001b[0;36mGeoplotAccessor.__call__\u001b[1;34m(self, *args, **kwargs)\u001b[0m\n\u001b[0;32m    961\u001b[0m kind \u001b[38;5;241m=\u001b[39m kwargs\u001b[38;5;241m.\u001b[39mpop(\u001b[38;5;124m\"\u001b[39m\u001b[38;5;124mkind\u001b[39m\u001b[38;5;124m\"\u001b[39m, \u001b[38;5;124m\"\u001b[39m\u001b[38;5;124mgeo\u001b[39m\u001b[38;5;124m\"\u001b[39m)\n\u001b[0;32m    962\u001b[0m \u001b[38;5;28;01mif\u001b[39;00m kind \u001b[38;5;241m==\u001b[39m \u001b[38;5;124m\"\u001b[39m\u001b[38;5;124mgeo\u001b[39m\u001b[38;5;124m\"\u001b[39m:\n\u001b[1;32m--> 963\u001b[0m     \u001b[38;5;28;01mreturn\u001b[39;00m plot_dataframe(data, \u001b[38;5;241m*\u001b[39margs, \u001b[38;5;241m*\u001b[39m\u001b[38;5;241m*\u001b[39mkwargs)\n\u001b[0;32m    964\u001b[0m \u001b[38;5;28;01mif\u001b[39;00m kind \u001b[38;5;129;01min\u001b[39;00m \u001b[38;5;28mself\u001b[39m\u001b[38;5;241m.\u001b[39m_pandas_kinds:\n\u001b[0;32m    965\u001b[0m     \u001b[38;5;66;03m# Access pandas plots\u001b[39;00m\n\u001b[0;32m    966\u001b[0m     \u001b[38;5;28;01mreturn\u001b[39;00m PlotAccessor(data)(kind\u001b[38;5;241m=\u001b[39mkind, \u001b[38;5;241m*\u001b[39m\u001b[38;5;241m*\u001b[39mkwargs)\n",
      "File \u001b[1;32m~\\Anaconda3\\envs\\DA\\lib\\site-packages\\geopandas\\plotting.py:823\u001b[0m, in \u001b[0;36mplot_dataframe\u001b[1;34m(df, column, cmap, color, ax, cax, categorical, legend, scheme, k, vmin, vmax, markersize, figsize, legend_kwds, categories, classification_kwds, missing_kwds, aspect, **style_kwds)\u001b[0m\n\u001b[0;32m    820\u001b[0m     \u001b[38;5;28;01mfor\u001b[39;00m n \u001b[38;5;129;01min\u001b[39;00m np\u001b[38;5;241m.\u001b[39mwhere(nan_idx)[\u001b[38;5;241m0\u001b[39m]:\n\u001b[0;32m    821\u001b[0m         values \u001b[38;5;241m=\u001b[39m np\u001b[38;5;241m.\u001b[39minsert(values, n, values[\u001b[38;5;241m0\u001b[39m])\n\u001b[1;32m--> 823\u001b[0m mn \u001b[38;5;241m=\u001b[39m values[\u001b[38;5;241m~\u001b[39m\u001b[43mnp\u001b[49m\u001b[38;5;241;43m.\u001b[39;49m\u001b[43misnan\u001b[49m\u001b[43m(\u001b[49m\u001b[43mvalues\u001b[49m\u001b[43m)\u001b[49m]\u001b[38;5;241m.\u001b[39mmin() \u001b[38;5;28;01mif\u001b[39;00m vmin \u001b[38;5;129;01mis\u001b[39;00m \u001b[38;5;28;01mNone\u001b[39;00m \u001b[38;5;28;01melse\u001b[39;00m vmin\n\u001b[0;32m    824\u001b[0m mx \u001b[38;5;241m=\u001b[39m values[\u001b[38;5;241m~\u001b[39mnp\u001b[38;5;241m.\u001b[39misnan(values)]\u001b[38;5;241m.\u001b[39mmax() \u001b[38;5;28;01mif\u001b[39;00m vmax \u001b[38;5;129;01mis\u001b[39;00m \u001b[38;5;28;01mNone\u001b[39;00m \u001b[38;5;28;01melse\u001b[39;00m vmax\n\u001b[0;32m    826\u001b[0m \u001b[38;5;66;03m# decompose GeometryCollections\u001b[39;00m\n",
      "File \u001b[1;32m~\\Anaconda3\\envs\\DA\\lib\\site-packages\\pandas\\core\\generic.py:2112\u001b[0m, in \u001b[0;36mNDFrame.__array_ufunc__\u001b[1;34m(self, ufunc, method, *inputs, **kwargs)\u001b[0m\n\u001b[0;32m   2108\u001b[0m \u001b[38;5;129m@final\u001b[39m\n\u001b[0;32m   2109\u001b[0m \u001b[38;5;28;01mdef\u001b[39;00m \u001b[38;5;21m__array_ufunc__\u001b[39m(\n\u001b[0;32m   2110\u001b[0m     \u001b[38;5;28mself\u001b[39m, ufunc: np\u001b[38;5;241m.\u001b[39mufunc, method: \u001b[38;5;28mstr\u001b[39m, \u001b[38;5;241m*\u001b[39minputs: Any, \u001b[38;5;241m*\u001b[39m\u001b[38;5;241m*\u001b[39mkwargs: Any\n\u001b[0;32m   2111\u001b[0m ):\n\u001b[1;32m-> 2112\u001b[0m     \u001b[38;5;28;01mreturn\u001b[39;00m arraylike\u001b[38;5;241m.\u001b[39marray_ufunc(\u001b[38;5;28mself\u001b[39m, ufunc, method, \u001b[38;5;241m*\u001b[39minputs, \u001b[38;5;241m*\u001b[39m\u001b[38;5;241m*\u001b[39mkwargs)\n",
      "File \u001b[1;32m~\\Anaconda3\\envs\\DA\\lib\\site-packages\\pandas\\core\\arraylike.py:405\u001b[0m, in \u001b[0;36marray_ufunc\u001b[1;34m(self, ufunc, method, *inputs, **kwargs)\u001b[0m\n\u001b[0;32m    402\u001b[0m \u001b[38;5;28;01melif\u001b[39;00m \u001b[38;5;28mself\u001b[39m\u001b[38;5;241m.\u001b[39mndim \u001b[38;5;241m==\u001b[39m \u001b[38;5;241m1\u001b[39m:\n\u001b[0;32m    403\u001b[0m     \u001b[38;5;66;03m# ufunc(series, ...)\u001b[39;00m\n\u001b[0;32m    404\u001b[0m     inputs \u001b[38;5;241m=\u001b[39m \u001b[38;5;28mtuple\u001b[39m(extract_array(x, extract_numpy\u001b[38;5;241m=\u001b[39m\u001b[38;5;28;01mTrue\u001b[39;00m) \u001b[38;5;28;01mfor\u001b[39;00m x \u001b[38;5;129;01min\u001b[39;00m inputs)\n\u001b[1;32m--> 405\u001b[0m     result \u001b[38;5;241m=\u001b[39m \u001b[38;5;28mgetattr\u001b[39m(ufunc, method)(\u001b[38;5;241m*\u001b[39minputs, \u001b[38;5;241m*\u001b[39m\u001b[38;5;241m*\u001b[39mkwargs)\n\u001b[0;32m    406\u001b[0m \u001b[38;5;28;01melse\u001b[39;00m:\n\u001b[0;32m    407\u001b[0m     \u001b[38;5;66;03m# ufunc(dataframe)\u001b[39;00m\n\u001b[0;32m    408\u001b[0m     \u001b[38;5;28;01mif\u001b[39;00m method \u001b[38;5;241m==\u001b[39m \u001b[38;5;124m\"\u001b[39m\u001b[38;5;124m__call__\u001b[39m\u001b[38;5;124m\"\u001b[39m \u001b[38;5;129;01mand\u001b[39;00m \u001b[38;5;129;01mnot\u001b[39;00m kwargs:\n\u001b[0;32m    409\u001b[0m         \u001b[38;5;66;03m# for np.<ufunc>(..) calls\u001b[39;00m\n\u001b[0;32m    410\u001b[0m         \u001b[38;5;66;03m# kwargs cannot necessarily be handled block-by-block, so only\u001b[39;00m\n\u001b[0;32m    411\u001b[0m         \u001b[38;5;66;03m# take this path if there are no kwargs\u001b[39;00m\n",
      "File \u001b[1;32m~\\Anaconda3\\envs\\DA\\lib\\site-packages\\pandas\\core\\arrays\\base.py:1682\u001b[0m, in \u001b[0;36mExtensionArray.__array_ufunc__\u001b[1;34m(self, ufunc, method, *inputs, **kwargs)\u001b[0m\n\u001b[0;32m   1679\u001b[0m     \u001b[38;5;28;01mif\u001b[39;00m result \u001b[38;5;129;01mis\u001b[39;00m \u001b[38;5;129;01mnot\u001b[39;00m \u001b[38;5;28mNotImplemented\u001b[39m:\n\u001b[0;32m   1680\u001b[0m         \u001b[38;5;28;01mreturn\u001b[39;00m result\n\u001b[1;32m-> 1682\u001b[0m \u001b[38;5;28;01mreturn\u001b[39;00m arraylike\u001b[38;5;241m.\u001b[39mdefault_array_ufunc(\u001b[38;5;28mself\u001b[39m, ufunc, method, \u001b[38;5;241m*\u001b[39minputs, \u001b[38;5;241m*\u001b[39m\u001b[38;5;241m*\u001b[39mkwargs)\n",
      "File \u001b[1;32m~\\Anaconda3\\envs\\DA\\lib\\site-packages\\pandas\\core\\arraylike.py:498\u001b[0m, in \u001b[0;36mdefault_array_ufunc\u001b[1;34m(self, ufunc, method, *inputs, **kwargs)\u001b[0m\n\u001b[0;32m    494\u001b[0m     \u001b[38;5;28;01mraise\u001b[39;00m \u001b[38;5;167;01mNotImplementedError\u001b[39;00m\n\u001b[0;32m    496\u001b[0m new_inputs \u001b[38;5;241m=\u001b[39m [x \u001b[38;5;28;01mif\u001b[39;00m x \u001b[38;5;129;01mis\u001b[39;00m \u001b[38;5;129;01mnot\u001b[39;00m \u001b[38;5;28mself\u001b[39m \u001b[38;5;28;01melse\u001b[39;00m np\u001b[38;5;241m.\u001b[39masarray(x) \u001b[38;5;28;01mfor\u001b[39;00m x \u001b[38;5;129;01min\u001b[39;00m inputs]\n\u001b[1;32m--> 498\u001b[0m \u001b[38;5;28;01mreturn\u001b[39;00m \u001b[38;5;28mgetattr\u001b[39m(ufunc, method)(\u001b[38;5;241m*\u001b[39mnew_inputs, \u001b[38;5;241m*\u001b[39m\u001b[38;5;241m*\u001b[39mkwargs)\n",
      "\u001b[1;31mTypeError\u001b[0m: ufunc 'isnan' not supported for the input types, and the inputs could not be safely coerced to any supported types according to the casting rule ''safe''"
     ]
    },
    {
     "data": {
      "image/png": "[encoded data removed]",
      "text/plain": [
       "<Figure size 1500x1000 with 1 Axes>"
      ]
     },
     "metadata": {},
     "output_type": "display_data"
    }
   ],
   "source": [
    "data.plot('geometry',figsize=(15,10))"
   ]
  },
  {
   "cell_type": "code",
   "execution_count": null,
   "id": "3b714c91",
   "metadata": {},
   "outputs": [],
   "source": []
  }
 ],
 "metadata": {
  "kernelspec": {
   "display_name": "Python 3 (ipykernel)",
   "language": "python",
   "name": "python3"
  },
  "language_info": {
   "codemirror_mode": {
    "name": "ipython",
    "version": 3
   },
   "file_extension": ".py",
   "mimetype": "text/x-python",
   "name": "python",
   "nbconvert_exporter": "python",
   "pygments_lexer": "ipython3",
   "version": "3.9.13"
  },
  "toc": {
   "base_numbering": 1,
   "nav_menu": {},
   "number_sections": true,
   "sideBar": true,
   "skip_h1_title": false,
   "title_cell": "Table of Contents",
   "title_sidebar": "Contents",
   "toc_cell": false,
   "toc_position": {},
   "toc_section_display": true,
   "toc_window_display": true
  },
  "varInspector": {
   "cols": {
    "lenName": 16,
    "lenType": 16,
    "lenVar": 40
   },
   "kernels_config": {
    "python": {
     "delete_cmd_postfix": "",
     "delete_cmd_prefix": "del ",
     "library": "var_list.py",
     "varRefreshCmd": "print(var_dic_list())"
    },
    "r": {
     "delete_cmd_postfix": ") ",
     "delete_cmd_prefix": "rm(",
     "library": "var_list.r",
     "varRefreshCmd": "cat(var_dic_list()) "
    }
   },
   "types_to_exclude": [
    "module",
    "function",
    "builtin_function_or_method",
    "instance",
    "_Feature"
   ],
   "window_display": false
  }
 },
 "nbformat": 4,
 "nbformat_minor": 5
}
