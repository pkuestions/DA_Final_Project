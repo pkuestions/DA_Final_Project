{
 "cells": [
  {
   "cell_type": "code",
   "execution_count": 6,
   "id": "bd5ede46",
   "metadata": {},
   "outputs": [],
   "source": [
    "import folium\n",
    "import os\n",
    "import glob\n",
    "import json"
   ]
  },
  {
   "cell_type": "code",
   "execution_count": 18,
   "id": "b6eacfd5",
   "metadata": {},
   "outputs": [],
   "source": [
    "# Create map object\n",
    "m = folium.Map(location=[52.51772755662563, 13.406154972878294], zoom_start=12)\n",
    "\n",
    "# Global tooltip\n",
    "tooltip_hover_marker = \"Click for more info!\"\n",
    "\n",
    "# Create markers\n",
    "\n",
    "marker_Ironhack = folium.Marker([52.532952379348814, 13.45334618603766], \n",
    "                                popup = \"<strong>IRONHACK</strong>\",\n",
    "                                tooltip = tooltip_hover_marker).add_to(m)\n",
    "\n",
    "maker_home = folium.Marker([52.57295915967568, 13.411971082934471],\n",
    "                           popup = \"<strong>Home</strong>\",\n",
    "                           tooltip = tooltip_hover_marker,\n",
    "                           icon = folium.Icon(icon=\"home\", color=\"red\")).add_to(m)\n",
    "\n",
    "# Create overlay\n",
    "borough_json_files = glob.glob(r\"data\\geo_data\\bezirksgrenzen\\single_bezirk_jsons\\*.geojson\")\n",
    "borough_list_overlay = [\"Reinickendorf\", \"Charlottenburg-Wilmersdorf\", \"Treptow-Köpenick\", \"Pankow\",\n",
    "                       \"Neukölln\", \"Lichtenberg\", \"Marzahn-Hellersdorf\", \"Spandau\",\n",
    "                       \"Steglitz-Zehlendorf\", \"Mitte\", \"Friedrichshain-Kreuzberg\", \"Tempelhof-Schöneberg\"]\n",
    "borough_style_dict = {\"fillColor\": \"#6290CB\", \"color\": \"#21469F\"}\n",
    "\n",
    "for idx,_ in enumerate(borough_json_files):\n",
    "    borough_overlay = folium.GeoJson(borough_json_files[idx], \n",
    "                                     tooltip = borough_list_overlay[idx],\n",
    "                                     name = borough_list_overlay[idx],\n",
    "                                     style_function = lambda x:borough_style_dict).add_to(m)\n",
    "    \n",
    "# Save map\n",
    "m.save(\"berlin_boroughs_singles.html\")"
   ]
  },
  {
   "cell_type": "code",
   "execution_count": 8,
   "id": "31107852",
   "metadata": {},
   "outputs": [],
   "source": [
    "\n"
   ]
  },
  {
   "cell_type": "code",
   "execution_count": 9,
   "id": "4aaa79d8",
   "metadata": {},
   "outputs": [],
   "source": []
  },
  {
   "cell_type": "code",
   "execution_count": 10,
   "id": "413845fe",
   "metadata": {},
   "outputs": [],
   "source": []
  },
  {
   "cell_type": "code",
   "execution_count": 11,
   "id": "895eca4c",
   "metadata": {},
   "outputs": [],
   "source": []
  },
  {
   "cell_type": "code",
   "execution_count": null,
   "id": "4232b5e5",
   "metadata": {},
   "outputs": [],
   "source": []
  },
  {
   "cell_type": "code",
   "execution_count": null,
   "id": "d6415762",
   "metadata": {},
   "outputs": [],
   "source": []
  }
 ],
 "metadata": {
  "kernelspec": {
   "display_name": "Python 3 (ipykernel)",
   "language": "python",
   "name": "python3"
  },
  "language_info": {
   "codemirror_mode": {
    "name": "ipython",
    "version": 3
   },
   "file_extension": ".py",
   "mimetype": "text/x-python",
   "name": "python",
   "nbconvert_exporter": "python",
   "pygments_lexer": "ipython3",
   "version": "3.9.13"
  },
  "toc": {
   "base_numbering": 1,
   "nav_menu": {},
   "number_sections": true,
   "sideBar": true,
   "skip_h1_title": false,
   "title_cell": "Table of Contents",
   "title_sidebar": "Contents",
   "toc_cell": false,
   "toc_position": {},
   "toc_section_display": true,
   "toc_window_display": true
  },
  "varInspector": {
   "cols": {
    "lenName": 16,
    "lenType": 16,
    "lenVar": 40
   },
   "kernels_config": {
    "python": {
     "delete_cmd_postfix": "",
     "delete_cmd_prefix": "del ",
     "library": "var_list.py",
     "varRefreshCmd": "print(var_dic_list())"
    },
    "r": {
     "delete_cmd_postfix": ") ",
     "delete_cmd_prefix": "rm(",
     "library": "var_list.r",
     "varRefreshCmd": "cat(var_dic_list()) "
    }
   },
   "types_to_exclude": [
    "module",
    "function",
    "builtin_function_or_method",
    "instance",
    "_Feature"
   ],
   "window_display": false
  }
 },
 "nbformat": 4,
 "nbformat_minor": 5
}
